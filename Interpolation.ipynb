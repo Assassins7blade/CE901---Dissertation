{
  "nbformat": 4,
  "nbformat_minor": 0,
  "metadata": {
    "colab": {
      "provenance": []
    },
    "kernelspec": {
      "name": "python3",
      "display_name": "Python 3"
    },
    "language_info": {
      "name": "python"
    }
  },
  "cells": [
    {
      "cell_type": "code",
      "execution_count": null,
      "metadata": {
        "id": "fmMN1YfV2lK7"
      },
      "outputs": [],
      "source": [
        "# Importing necessary libraries\n",
        "import pandas as pd\n",
        "import numpy as np\n",
        "from google.colab import drive\n",
        "\n",
        "# Mounting Google Drive\n",
        "drive.mount('/content/drive')\n",
        "\n",
        "# Redefining the file path for Google Drive\n",
        "input_file_path = '/content/drive/My Drive/OutputV5/group_33_v1_12.csv'  # Path to your input file\n",
        "output_file_path = '/content/drive/My Drive/ResultsV5/results_v5_1.csv'  # Path to save your output file\n",
        "\n",
        "# Load the dataset\n",
        "df = pd.read_csv(input_file_path, low_memory=False)\n",
        "\n",
        "# Custom processing as previously defined\n",
        "new_header = df.iloc[29]  # Grab the first row for the header\n",
        "df = df.iloc[30:]  # Take the data less the header row\n",
        "df.columns = new_header  # Set the header row as the df header\n",
        "df.dropna(axis=1, how='all', inplace=True)  # Drop columns with all NaN values\n",
        "\n",
        "df['Heart Rate PPG ALG'] = pd.to_numeric(df['Heart Rate PPG ALG'], errors='coerce')\n",
        "df['IBI PPG ALG'] = pd.to_numeric(df['IBI PPG ALG'], errors='coerce')\n",
        "\n",
        "df['Heart Rate PPG ALG'].replace(-1, np.nan, inplace=True)\n",
        "df['IBI PPG ALG'].replace(-1, np.nan, inplace=True)\n",
        "\n",
        "first_valid_index = df['Heart Rate PPG ALG'].first_valid_index()\n",
        "df.at[first_valid_index, 'Heart Rate PPG ALG'] = np.nan\n",
        "\n",
        "df['Heart Rate PPG ALG'] = df['Heart Rate PPG ALG'].interpolate(method='linear')\n",
        "df['IBI PPG ALG'] = df['IBI PPG ALG'].interpolate(method='linear')\n",
        "\n",
        "mean_heart_rate = df['Heart Rate PPG ALG'].mean()\n",
        "df['Heart Rate PPG ALG'].fillna(mean_heart_rate, inplace=True)\n",
        "\n",
        "mean_ibi = df['IBI PPG ALG'].mean()\n",
        "df['IBI PPG ALG'].fillna(mean_ibi, inplace=True)\n",
        "\n",
        "# Saving the processed DataFrame to the Output folder in Google Drive\n",
        "df.to_csv(output_file_path, index=False)\n",
        "\n"
      ]
    }
  ]
}